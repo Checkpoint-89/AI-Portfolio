{
 "metadata": {
  "language_info": {
   "codemirror_mode": {
    "name": "ipython",
    "version": 3
   },
   "file_extension": ".py",
   "mimetype": "text/x-python",
   "name": "python",
   "nbconvert_exporter": "python",
   "pygments_lexer": "ipython3",
   "version": "3.8.5"
  },
  "orig_nbformat": 2,
  "kernelspec": {
   "name": "python385jvsc74a57bd0cb177665c8d0483b6777e38b6ceeeb12d1b76da116ab2b793d52c554572199d3",
   "display_name": "Python 3.8.5 64-bit ('P9': conda)"
  }
 },
 "nbformat": 4,
 "nbformat_minor": 2,
 "cells": [
  {
   "source": [
    "# Recommendations computing"
   ],
   "cell_type": "markdown",
   "metadata": {}
  },
  {
   "source": [
    "## Import librairies"
   ],
   "cell_type": "markdown",
   "metadata": {}
  },
  {
   "cell_type": "code",
   "execution_count": 1,
   "metadata": {},
   "outputs": [
    {
     "output_type": "stream",
     "name": "stdout",
     "text": [
      "System version: 3.8.5 (default, Sep  3 2020, 21:29:08) [MSC v.1916 64 bit (AMD64)]\nSurprise version: 1.1.1\n"
     ]
    }
   ],
   "source": [
    "import os\n",
    "import pickle\n",
    "\n",
    "import pandas as pd\n",
    "import numpy as np\n",
    "\n",
    "import surprise\n",
    "from surprise import Reader\n",
    "from surprise.model_selection import GridSearchCV\n",
    "\n",
    "from sklearn.metrics.pairwise import cosine_similarity\n",
    "\n",
    "import sys\n",
    "sys.path.append(r\"D:\\Data\\Google Drive\\Openclassrooms\\P9\\Recommenders\")\n",
    "from reco_utils.dataset.python_splitters import python_stratified_split\n",
    "from reco_utils.recommender.surprise.surprise_utils import compute_ranking_predictions, predict\n",
    "from reco_utils.evaluation.python_evaluation import *\n",
    "\n",
    "print(\"System version: {}\".format(sys.version))\n",
    "print(\"Surprise version: {}\".format(surprise.__version__))"
   ]
  },
  {
   "source": [
    "## Utils functions"
   ],
   "cell_type": "markdown",
   "metadata": {}
  },
  {
   "cell_type": "code",
   "execution_count": 27,
   "metadata": {},
   "outputs": [],
   "source": [
    "# Functions to compute the content base and collaborative filtering\n",
    "\n",
    "##############################\n",
    "# Tools\n",
    "##############################\n",
    "\n",
    "def get_user_info(user_id, interactions, user_col, info_col):\n",
    "    # Retrieve the columns 'info_col' from the DataFrame 'interactions' for a given 'user_id'\n",
    "    user_items = interactions.loc[interactions[user_col] == user_id, info_col]\n",
    "    return(user_items.to_numpy())\n",
    "\n",
    "def get_item_profiles(items_ids, item_profiles):\n",
    "    # Retrieve 'item_profiles' for the given 'item_ids'\n",
    "    return(item_profiles[items_ids])\n",
    "\n",
    "def get_user_profile(user_id, interactions, item_profiles, user_col, item_col, score_col):\n",
    "    # Compute a user profile as the weighted average of the items the user interacted with.\n",
    "    # The weights are the scores/ratings of the items the user interacted with.\n",
    "    user_items = get_user_info(user_id, interactions, user_col, item_col)\n",
    "    user_scores = get_user_info(user_id, interactions, user_col, score_col)\n",
    "    user_scores = np.nan_to_num(user_scores)\n",
    "    user_item_profiles = get_item_profiles(user_items, item_profiles)\n",
    "    user_profile = np.dot(user_scores, user_item_profiles)\n",
    "    user_profile = user_profile / user_scores.sum()\n",
    "    return(user_profile)\n",
    "\n",
    "##############################\n",
    "# Content base filtering\n",
    "##############################\n",
    "def get_user_content_vectorized(user_ids, nth, interactions_, item_profiles):\n",
    "    \"\"\"\n",
    "    Compute the top nth recommendations for all users in user_ids\n",
    "    The recommendations are the top n values of the utility matrix.\n",
    "    The utility matrix providing for each user/item its score as the \n",
    "    cosine similarity between the user profile and the item embedding. \n",
    "    The user profile is a weighted average of the items seen by the users.\n",
    "    Weights are the implicit ratings of each item seen.\n",
    "    \n",
    "    Inputs:\n",
    "    - user_ids: list of user ids\n",
    "    - nth: number of recommendation to provide for each user\n",
    "    - interactions_: DataFrame of recommendations providing 'userID', 'itemID' and 'rating'\n",
    "    - item_profiles: numpy array with the items embeddings in columns, line number is the item id\n",
    "\n",
    "    Outputs:\n",
    "    - utility_matrix: numpy array\n",
    "    - top_n: numpy array of the n best recommendations for each users (users in line, recommendations in\n",
    "    columns)\n",
    "    - top_n_df: same as top_n but as a DataFrame\n",
    "    \"\"\"\n",
    "    from sklearn.metrics.pairwise import cosine_similarity\n",
    "    user_profiles = [get_user_profile(i, interactions_, item_profiles,'userID', 'itemID','rating') \\\n",
    "                    for i in user_ids]\n",
    "\n",
    "    utility_matrix = cosine_similarity(user_profiles, item_profiles)\n",
    "\n",
    "    top_n = np.argpartition(utility_matrix,kth=-nth,axis=-1)[:,-nth:]\n",
    "    top_n = np.flip(top_n, axis=-1)\n",
    "    top_n_df = pd.DataFrame(top_n[:,0:nth], index = user_ids)\n",
    "    return(utility_matrix, top_n, top_n_df)\n",
    "\n",
    "def assess_utility_matrix(user_ids, utility_matrix, interactions_):\n",
    "    \"\"\"\n",
    "    Compute the quality of the utility matrix. For each item seen \n",
    "    by a user, the function computes the distance between its rating \n",
    "    and the best score for that user in the utility matrix.\n",
    "    \n",
    "    Inputs:\n",
    "    - user_ids: list of user ids\n",
    "    - interactions_: DataFrame of recommendations providing 'userID', 'itemID' and 'rating'\n",
    "    - utility_matrix: numpy array\n",
    "\n",
    "    Outputs:\n",
    "    - dist_from_best\n",
    "    \"\"\"\n",
    "    for user_id in user_ids:\n",
    "            user_items = interactions_.loc[interactions_[\"userID\"] == user_id, \"itemID\"].to_numpy()\n",
    "            user_recos = np.argsort(utility_matrix[user_id,:])\n",
    "            user_recos = np.flip(user_recos)\n",
    "            dist_from_best.append(np.argwhere(np.isin(user_recos, user_items)) / len(user_recos) * 100) \n",
    "    return(dist_from_best)\n",
    "\n",
    "##############################\n",
    "# Collaborative filtering\n",
    "##############################\n",
    "def compute_ranking_predictions(\n",
    "    algo,\n",
    "    data,\n",
    "    usercol='userID',\n",
    "    itemcol='itemID',\n",
    "    predcol='prediction',\n",
    "    remove_seen=False,\n",
    "    k=10,\n",
    "    user_id=None,\n",
    "):\n",
    "    \"\"\"Computes predictions of an algorithm from Surprise on all users and items in data. It can be used for computing\n",
    "    ranking metrics like NDCG.\n",
    "    \n",
    "    Args:\n",
    "        algo (surprise.prediction_algorithms.algo_base.AlgoBase): an algorithm from Surprise\n",
    "        data (pd.DataFrame): the data from which to get the users and items\n",
    "        usercol (str): name of the user column\n",
    "        itemcol (str): name of the item column\n",
    "        remove_seen (bool): flag to remove (user, item) pairs seen in the training data\n",
    "    \n",
    "    Returns:\n",
    "        pd.DataFrame: dataframe with usercol, itemcol, predcol\n",
    "    \"\"\"\n",
    "    preds_lst = []\n",
    "    if user_id == None:\n",
    "        users = data[usercol].unique()\n",
    "    else:\n",
    "        users = [user_id]\n",
    "    items = data[itemcol].unique()\n",
    "\n",
    "    for user in users:\n",
    "        preds_usr = []\n",
    "        for item in items:\n",
    "            # preds_lst.append([user, item, algo.predict(user, item).est])\n",
    "            preds_usr.append([user, item, algo.predict(user, item).est])\n",
    "        preds_usr_df = pd.DataFrame(data=preds_usr, columns=[usercol, itemcol, predcol])\n",
    "        preds_usr_df = preds_usr_df.sort_values(by=predcol, ascending=False)[0:k]\n",
    "        preds_lst.extend(preds_usr_df.values.tolist())\n",
    "\n",
    "    all_predictions = pd.DataFrame(data=preds_lst, columns=[usercol, itemcol, predcol])\n",
    "\n",
    "    if remove_seen:\n",
    "        tempdf = pd.concat(\n",
    "            [\n",
    "                data[[usercol, itemcol]],\n",
    "                pd.DataFrame(\n",
    "                    data=np.ones(data.shape[0]), columns=[\"dummycol\"], index=data.index\n",
    "                ),\n",
    "            ],\n",
    "            axis=1,\n",
    "        )\n",
    "        merged = pd.merge(tempdf, all_predictions, on=[usercol, itemcol], how=\"outer\")\n",
    "        return merged[merged[\"dummycol\"].isnull()].drop(\"dummycol\", axis=1)\n",
    "    else:\n",
    "        return all_predictions"
   ]
  },
  {
   "source": [
    "## Load and preprocess the data\n",
    "'interactions' were preprocessed during an earlier step (in the notebook 'eda').  \n",
    "It contains the required information for a recommender models: 'userID', 'itemID' and 'rating'\n",
    "\n",
    "'rating' was computed (in the notebook 'eda') as the time spent on an article normalized by its length (number of words)."
   ],
   "cell_type": "markdown",
   "metadata": {}
  },
  {
   "cell_type": "code",
   "execution_count": 3,
   "metadata": {},
   "outputs": [],
   "source": [
    "# Import files\n",
    "data_path = './data'\n",
    "interactions_file = os.path.join(data_path, 'clicks_light.csv')\n",
    "item_profiles_file = os.path.join(data_path, 'articles_embeddings.pickle')\n",
    "\n",
    "interactions = pd.read_csv(interactions_file)\n",
    "\n",
    "with open(item_profiles_file, mode='rb') as f:\n",
    "    item_profiles = pickle.load(f)\n",
    "\n",
    "interactions = interactions.rename(columns={'rating1':'rating'})"
   ]
  },
  {
   "cell_type": "code",
   "execution_count": 7,
   "metadata": {},
   "outputs": [
    {
     "output_type": "execute_result",
     "data": {
      "text/plain": [
       "   userID  itemID    rating\n",
       "0       0  157541  1.673888\n",
       "1       0   68866       NaN\n",
       "2       0   96755  2.150506\n",
       "3       0  313996       NaN\n",
       "4       0  160158  2.304974"
      ],
      "text/html": "<div>\n<style scoped>\n    .dataframe tbody tr th:only-of-type {\n        vertical-align: middle;\n    }\n\n    .dataframe tbody tr th {\n        vertical-align: top;\n    }\n\n    .dataframe thead th {\n        text-align: right;\n    }\n</style>\n<table border=\"1\" class=\"dataframe\">\n  <thead>\n    <tr style=\"text-align: right;\">\n      <th></th>\n      <th>userID</th>\n      <th>itemID</th>\n      <th>rating</th>\n    </tr>\n  </thead>\n  <tbody>\n    <tr>\n      <th>0</th>\n      <td>0</td>\n      <td>157541</td>\n      <td>1.673888</td>\n    </tr>\n    <tr>\n      <th>1</th>\n      <td>0</td>\n      <td>68866</td>\n      <td>NaN</td>\n    </tr>\n    <tr>\n      <th>2</th>\n      <td>0</td>\n      <td>96755</td>\n      <td>2.150506</td>\n    </tr>\n    <tr>\n      <th>3</th>\n      <td>0</td>\n      <td>313996</td>\n      <td>NaN</td>\n    </tr>\n    <tr>\n      <th>4</th>\n      <td>0</td>\n      <td>160158</td>\n      <td>2.304974</td>\n    </tr>\n  </tbody>\n</table>\n</div>"
     },
     "metadata": {},
     "execution_count": 7
    }
   ],
   "source": [
    "interactions.head()"
   ]
  },
  {
   "source": [
    "**Preprocess the file for collaborative filtering**  \n",
    "To work efficiently, collaborative filtering requires users to have had some interactions with the system. Consequently, we will apply collaborative filtering only to users with more than 10 interactions.  \n",
    "\n",
    "We hereunder extract the relevant users interactions hereunder in the 'interactions_' DataFrame."
   ],
   "cell_type": "markdown",
   "metadata": {}
  },
  {
   "cell_type": "code",
   "execution_count": 8,
   "metadata": {},
   "outputs": [
    {
     "output_type": "stream",
     "name": "stdout",
     "text": [
      "Size of the initial interactions = 2987858\n",
      "Size of interactions (>10) = 1979594\n",
      "Size of interactions (>10, w/o NaN) = 1355289\n"
     ]
    }
   ],
   "source": [
    "# Extraction des utilisateurs ayant eu plus de 10 interactions\n",
    "counts = interactions.groupby(by='userID').count()\n",
    "counts = counts[counts['itemID']>10].index.values\n",
    "interactions_ = interactions[interactions['userID'].isin(counts)]\n",
    "\n",
    "print(f\"Size of the initial interactions = {len(interactions)}\")\n",
    "print(f\"Size of interactions (>10) = {len(interactions_)}\")\n",
    "\n",
    "# Suppression des interactions pour lesquelles le rating \n",
    "rating_to_drop = np.nan\n",
    "to_drop = interactions_[interactions_['rating'].isna()].index\n",
    "interactions_ = interactions_.drop(index=to_drop)\n",
    "print(f\"Size of interactions (>10, w/o NaN) = {len(interactions_)}\")"
   ]
  },
  {
   "source": [
    "## Baseline (collaborative filtering)\n",
    "Hereunder, we calculate the RMSE when all ratings are estimated as the global average of known ratings."
   ],
   "cell_type": "markdown",
   "metadata": {}
  },
  {
   "cell_type": "code",
   "execution_count": 9,
   "metadata": {},
   "outputs": [
    {
     "output_type": "stream",
     "name": "stdout",
     "text": [
      "RMSE mean: 0.7729782188214214\n"
     ]
    }
   ],
   "source": [
    "# Error made if we estimate ratings by the global average\n",
    "std = interactions_['rating'].std()\n",
    "print(f\"RMSE mean: {std}\")"
   ]
  },
  {
   "source": [
    "## Collaborative filtering"
   ],
   "cell_type": "markdown",
   "metadata": {}
  },
  {
   "source": [
    "**Training**"
   ],
   "cell_type": "markdown",
   "metadata": {}
  },
  {
   "cell_type": "code",
   "execution_count": 10,
   "metadata": {},
   "outputs": [
    {
     "output_type": "stream",
     "name": "stdout",
     "text": [
      "\n",
      " n_factors = 10\n",
      "Took 13.450069900000003 seconds for training.\n",
      "Took 17.6196523 seconds for prediction.\n",
      "RMSE svd: 0.6731601414357692\n",
      "\n",
      " n_factors = 50\n",
      "Took 28.7093785 seconds for training.\n",
      "Took 16.89359780000001 seconds for prediction.\n",
      "RMSE svd: 0.6601754215241478\n",
      "\n",
      " n_factors = 100\n",
      "Took 45.95308489999999 seconds for training.\n",
      "Took 17.324730799999998 seconds for prediction.\n",
      "RMSE svd: 0.6444015331334414\n",
      "\n",
      " n_factors = 500\n",
      "Took 255.8742438 seconds for training.\n",
      "Took 16.48382730000003 seconds for prediction.\n",
      "RMSE svd: 0.5458838547701672\n",
      "\n",
      " n_factors = 1000\n",
      "Took 510.46200039999997 seconds for training.\n",
      "Took 17.080846500000007 seconds for prediction.\n",
      "RMSE svd: 0.4629692290912044\n",
      "\n",
      "Dump the model parameters in a pickle file\n"
     ]
    }
   ],
   "source": [
    "train_model = True\n",
    "\n",
    "if train_model:\n",
    "    from reco_utils.common.timer import Timer\n",
    "\n",
    "    # Define the train-set\n",
    "    reader = Reader(rating_scale=(interactions_['rating'].min(),interactions_['rating'].max()))\n",
    "    train_set = surprise.Dataset.load_from_df(interactions_[['userID', 'itemID', 'rating']], reader=reader).build_full_trainset()\n",
    "\n",
    "    rmse_l = []\n",
    "\n",
    "    for n_factors in [10, 50, 100, 500, 1000]:\n",
    "\n",
    "        print(f\"\\n n_factors = {n_factors}\")\n",
    "\n",
    "        # Train the collaborative filter\n",
    "        svd = surprise.SVD(random_state=0, n_factors=n_factors, n_epochs=10, verbose=False)\n",
    "        with Timer() as train_time:\n",
    "            svd.fit(train_set)\n",
    "        print(\"Took {} seconds for training.\".format(train_time.interval))\n",
    "\n",
    "        # Predict the score for all interactions where we have an implicit rating\n",
    "        with Timer() as pred_time:\n",
    "            preds = predict(svd, interactions_)\n",
    "        print(\"Took {} seconds for prediction.\".format(pred_time.interval))\n",
    "\n",
    "        # Compute the error made by the above predictions\n",
    "        err2 = (preds['prediction'].to_numpy() - interactions_['rating'].to_numpy())**2\n",
    "        rmse = np.sqrt(err2.mean())\n",
    "        print(f\"RMSE svd: {rmse}\")\n",
    "        rmse_l.append(rmse)\n",
    "\n",
    "    # Save the model\n",
    "    print(\"\\nDump the model parameters in a pickle file\")\n",
    "    with open('./data/cf.pickle', 'wb') as f:\n",
    "            pickle.dump(svd, f)"
   ]
  },
  {
   "source": [
    "**Compute the recommendations**"
   ],
   "cell_type": "markdown",
   "metadata": {}
  },
  {
   "cell_type": "code",
   "execution_count": 18,
   "metadata": {},
   "outputs": [
    {
     "output_type": "execute_result",
     "data": {
      "text/plain": [
       "6"
      ]
     },
     "metadata": {},
     "execution_count": 18
    }
   ],
   "source": [
    "# Calculer la liste des recommendations pour les userID <= 100\n",
    "# et faisant parti des utilisateurs ayant eu plus de 10 interactions\n",
    "users_list_ = interactions_['userID'].unique()\n",
    "users_list_ = users_list_[users_list_<=100]\n",
    "interactions_ = interactions[interactions['userID'].isin(users_list_)]\n",
    "\n",
    "cf_rankings = compute_ranking_predictions(svd, \n",
    "                                          interactions_, \n",
    "                                          usercol='userID',\n",
    "                                          itemcol='itemID',\n",
    "                                          remove_seen=True)\n",
    "\n",
    "# Nombre minimum de recommendations retenues par user\n",
    "cf_rankings.groupby(by='userID').count()['prediction'].min()"
   ]
  },
  {
   "source": [
    "**Save the predictions for future upload in a CosmosDB**"
   ],
   "cell_type": "markdown",
   "metadata": {}
  },
  {
   "cell_type": "code",
   "execution_count": 19,
   "metadata": {},
   "outputs": [],
   "source": [
    "collab = [cf_rankings.loc[cf_rankings['userID']==userID, 'itemID'].tolist() for userID in users_list_]\n",
    "collab_df = pd.DataFrame(collab)\n",
    "collab_df['userID'] = users_list_"
   ]
  },
  {
   "cell_type": "code",
   "execution_count": 20,
   "metadata": {},
   "outputs": [
    {
     "output_type": "execute_result",
     "data": {
      "text/plain": [
       "        0       1       2       3       4       5         6         7  \\\n",
       "0  348109  202534  107299  107298  355163  158535  107308.0  158541.0   \n",
       "1  107298  209723   61741   42937  202534  107308  107214.0  348109.0   \n",
       "2  348109  202534  107299  107298  355163  158535  107308.0  158541.0   \n",
       "3  107299  276783  348109  106984  195191   61169  145096.0  308930.0   \n",
       "4  348109  202534  107299  107298  355163  158535  107308.0  158541.0   \n",
       "\n",
       "          8         9  userID  \n",
       "0  106984.0  107289.0       0  \n",
       "1  158704.0  216183.0       1  \n",
       "2  106984.0  107289.0       2  \n",
       "3  277486.0  300048.0       3  \n",
       "4  106984.0  107289.0       4  "
      ],
      "text/html": "<div>\n<style scoped>\n    .dataframe tbody tr th:only-of-type {\n        vertical-align: middle;\n    }\n\n    .dataframe tbody tr th {\n        vertical-align: top;\n    }\n\n    .dataframe thead th {\n        text-align: right;\n    }\n</style>\n<table border=\"1\" class=\"dataframe\">\n  <thead>\n    <tr style=\"text-align: right;\">\n      <th></th>\n      <th>0</th>\n      <th>1</th>\n      <th>2</th>\n      <th>3</th>\n      <th>4</th>\n      <th>5</th>\n      <th>6</th>\n      <th>7</th>\n      <th>8</th>\n      <th>9</th>\n      <th>userID</th>\n    </tr>\n  </thead>\n  <tbody>\n    <tr>\n      <th>0</th>\n      <td>348109</td>\n      <td>202534</td>\n      <td>107299</td>\n      <td>107298</td>\n      <td>355163</td>\n      <td>158535</td>\n      <td>107308.0</td>\n      <td>158541.0</td>\n      <td>106984.0</td>\n      <td>107289.0</td>\n      <td>0</td>\n    </tr>\n    <tr>\n      <th>1</th>\n      <td>107298</td>\n      <td>209723</td>\n      <td>61741</td>\n      <td>42937</td>\n      <td>202534</td>\n      <td>107308</td>\n      <td>107214.0</td>\n      <td>348109.0</td>\n      <td>158704.0</td>\n      <td>216183.0</td>\n      <td>1</td>\n    </tr>\n    <tr>\n      <th>2</th>\n      <td>348109</td>\n      <td>202534</td>\n      <td>107299</td>\n      <td>107298</td>\n      <td>355163</td>\n      <td>158535</td>\n      <td>107308.0</td>\n      <td>158541.0</td>\n      <td>106984.0</td>\n      <td>107289.0</td>\n      <td>2</td>\n    </tr>\n    <tr>\n      <th>3</th>\n      <td>107299</td>\n      <td>276783</td>\n      <td>348109</td>\n      <td>106984</td>\n      <td>195191</td>\n      <td>61169</td>\n      <td>145096.0</td>\n      <td>308930.0</td>\n      <td>277486.0</td>\n      <td>300048.0</td>\n      <td>3</td>\n    </tr>\n    <tr>\n      <th>4</th>\n      <td>348109</td>\n      <td>202534</td>\n      <td>107299</td>\n      <td>107298</td>\n      <td>355163</td>\n      <td>158535</td>\n      <td>107308.0</td>\n      <td>158541.0</td>\n      <td>106984.0</td>\n      <td>107289.0</td>\n      <td>4</td>\n    </tr>\n  </tbody>\n</table>\n</div>"
     },
     "metadata": {},
     "execution_count": 20
    }
   ],
   "source": [
    "collab_df.head()"
   ]
  },
  {
   "cell_type": "code",
   "execution_count": 21,
   "metadata": {},
   "outputs": [],
   "source": [
    "collab_df.to_csv(\"./to_cosmosdb/collab.csv\", index=False)"
   ]
  },
  {
   "source": [
    "## Content based filtering"
   ],
   "cell_type": "markdown",
   "metadata": {}
  },
  {
   "cell_type": "code",
   "execution_count": 30,
   "metadata": {},
   "outputs": [
    {
     "output_type": "stream",
     "name": "stdout",
     "text": [
      "Compute the top 10 recommendations for 100 users: 7.15625 secondes\n",
      "Evaluation for 100 users: 5.625 secondes\n"
     ]
    }
   ],
   "source": [
    "from time import process_time\n",
    "n_users = 100\n",
    "nth = 10\n",
    "\n",
    "# Init\n",
    "start_time =process_time()\n",
    "user_ids = list(range(n_users))\n",
    "interactions_ = interactions\n",
    "user_profiles = [get_user_profile(i, interactions_, item_profiles,'userID', 'itemID','rating') \\\n",
    "                 for i in user_ids]\n",
    "\n",
    "# Content based filtering\n",
    "utility_matrix, top_n, top_n_df = get_user_content_vectorized(user_ids, nth, interactions_, item_profiles)\n",
    "print(f\"Compute the top {nth} recommendations for {n_users} users: {process_time()-start_time} secondes\")\n",
    "\n"
   ]
  },
  {
   "cell_type": "code",
   "execution_count": 56,
   "metadata": {},
   "outputs": [
    {
     "output_type": "stream",
     "name": "stdout",
     "text": [
      "Evaluation for 100 users: 5.921875 secondes\n\nAverage distance from the best recommendation when considering x number of items seen by a user:\n"
     ]
    },
    {
     "output_type": "execute_result",
     "data": {
      "text/plain": [
       "[0.0968501319884519,\n",
       " 0.694065601419597,\n",
       " 1.1585537032306275,\n",
       " 2.0236086732390786,\n",
       " 2.8017158956581634,\n",
       " 3.57706102050925,\n",
       " 4.375838441582704,\n",
       " 5.200661835657795,\n",
       " 5.602002031963341,\n",
       " 6.1238111817587075,\n",
       " 6.8142416381658215,\n",
       " 7.386731508146795,\n",
       " 7.8395433562647705,\n",
       " 8.197199279631986,\n",
       " 8.522358027449352,\n",
       " 8.887168054268228,\n",
       " 9.2473945396493,\n",
       " 9.630949670638552,\n",
       " 9.939209639705924,\n",
       " 10.273802613747893]"
      ]
     },
     "metadata": {},
     "execution_count": 56
    }
   ],
   "source": [
    "# Assess the utility matrix computed for the content based filtering\n",
    "start_time =process_time()\n",
    "dist_from_best = assess_utility_matrix(user_ids, utility_matrix, interactions_)\n",
    "print(f\"Evaluation for {n_users} users: {process_time()-start_time} secondes\")\n",
    "\n",
    "# Compute the average distance of items seen by the user from the best recommendation when looking \n",
    "mean = []\n",
    "for i in range(20):\n",
    "    mean.append(0)\n",
    "    for metric in dist_from_best:\n",
    "        metric = metric[0:i+1]\n",
    "        mean[i] = mean[i] + metric.mean()\n",
    "    mean[i] = mean[i] / len(dist_from_best)\n",
    "\n",
    "print(\"\\nAverage distance from the best recommendation when considering x number of items seen by a user:\")\n",
    "mean"
   ]
  },
  {
   "source": [
    "**Save the predictions for future upload in a CosmosDB**"
   ],
   "cell_type": "markdown",
   "metadata": {}
  },
  {
   "cell_type": "code",
   "execution_count": 54,
   "metadata": {},
   "outputs": [],
   "source": [
    "top_n_df.to_csv(\"./to_cosmosdb/content.csv\", index_label=\"userID\")"
   ]
  },
  {
   "source": [
    "# Connect to CosmosDB"
   ],
   "cell_type": "markdown",
   "metadata": {}
  },
  {
   "cell_type": "code",
   "execution_count": null,
   "metadata": {},
   "outputs": [],
   "source": [
    "from azure.cosmos import CosmosClient"
   ]
  },
  {
   "cell_type": "code",
   "execution_count": null,
   "metadata": {},
   "outputs": [],
   "source": [
    "# Initialize the Cosmos client\n",
    "endpoint = \"https://reco.documents.azure.com:443/\"\n",
    "key = 'h9opC3onnYUSdx1muRG7Tav6rmE45fTgQocnCR7oefBp4hF0bqbx94Oum5XYyetNtIXNtjTVoIRbH30vKNVwbA=='\n",
    "\n",
    "# Connect to containers\n",
    "client = CosmosClient(endpoint, key)\n",
    "database = client.get_database_client('reco')\n",
    "contentbase = database.get_container_client('contentbase')\n",
    "collab = database.get_container_client('collab')\n",
    "\n",
    "# Query them in SQL\n",
    "userID = 0\n",
    "query = 'SELECT c[\"0\"],c[\"1\"],c[\"2\"],c[\"3\"],c[\"4\"],c[\"5\"] FROM c WHERE c.userID=' + str(userID)    \n",
    "it_collab = collab.query_items(query,enable_cross_partition_query=True)\n",
    "it_contentbase = contentbase.query_items(query,enable_cross_partition_query=True)\n",
    "\n",
    "# Extract\n",
    "try:\n",
    "    recos_collab = list(next(it_collab).values())\n",
    "    print(f\"collab: {recos_collab}\")\n",
    "except StopIteration:\n",
    "    recos_contentbase = list(next(it_contentbase).values())\n",
    "    print(f'contentbase: {recos_contentbase}')"
   ]
  },
  {
   "source": [
    "# Back-up"
   ],
   "cell_type": "markdown",
   "metadata": {}
  },
  {
   "cell_type": "code",
   "execution_count": null,
   "metadata": {},
   "outputs": [],
   "source": [
    "from numba import guvectorize\n",
    "@guvectorize([\"float64[:], float64[:,:], float64[:]\"], '(n),(m,n)->(m)', nopython=True, target='parallel')\n",
    "def cosine_similarity_numba(u, v, cos_theta):\n",
    "    assert u.shape[0] == v.shape[1]\n",
    "    for j in range(v.shape[0]):\n",
    "        uv = 0\n",
    "        uu = 0\n",
    "        vv = 0\n",
    "        for i in range(u.shape[0]):\n",
    "            uv += u[i]*v[j,i]\n",
    "            uu += u[i]*u[i]\n",
    "            vv += v[j,i]*v[j,i]\n",
    "        cos_theta[j] = 1\n",
    "        if uu != 0 and vv != 0:\n",
    "            cos_theta[j] = uv / np.sqrt(vv * uu)"
   ]
  },
  {
   "cell_type": "code",
   "execution_count": null,
   "metadata": {},
   "outputs": [],
   "source": [
    "def list_enum(n):\n",
    "    for i in range(n):\n",
    "        yield(i)\n",
    "\n",
    "x = list_enum(5)\n",
    "\n",
    "next(x)"
   ]
  },
  {
   "cell_type": "code",
   "execution_count": null,
   "metadata": {},
   "outputs": [],
   "source": [
    "def get_user_content_vectorized(user_ids, nth, interactions_, item_profiles):\n",
    "    \"\"\"\n",
    "    Compute the top nth recommendations for all users in user_ids\n",
    "    The recommendations are the top n values of the utility matrix.\n",
    "    The utility matrix providing for each user/item its score as the \n",
    "    cosine similarity between the user profile and the item embedding. \n",
    "    The user profile is a weighted average of the items seen by the users.\n",
    "    Weights are the implicit ratings of each item seen.\n",
    "    \n",
    "    Inputs:\n",
    "    - user_ids: list of user ids\n",
    "    - nth: number of recommendation to provide for each user\n",
    "    - interactions_: DataFrame of recommendations providing 'userID', 'itemID' and 'rating'\n",
    "    - item_profiles: numpy array with the items embeddings in columns, line number is the item id\n",
    "\n",
    "    Outputs:\n",
    "    - utility_matrix: numpy array\n",
    "    - top_n: numpy array of the n best recommendations for each users (users in line, recommendations in\n",
    "    columns)\n",
    "    - top_n_df: same as top_n but as a DataFrame\n",
    "    \"\"\"\n",
    "    from sklearn.metrics.pairwise import cosine_similarity\n",
    "    user_profiles = [get_user_profile(i, interactions_, item_profiles,'userID', 'itemID','rating') \\\n",
    "                    for i in user_ids]\n",
    "\n",
    "    utility_matrix = cosine_similarity(user_profiles, item_profiles)\n",
    "\n",
    "    top_n = np.argpartition(utility_matrix,kth=-nth,axis=-1)[:,-nth:]\n",
    "    top_n = np.flip(top_n, axis=-1)\n",
    "    top_n_df = pd.DataFrame(top_n[:,0:nth], index = user_ids)\n",
    "    return(utility_matrix, top_n, top_n_df)\n",
    "\n",
    "def assess_utility_matrix(user_ids, utility_matrix, interactions_):\n",
    "    \"\"\"\n",
    "    Compute the quality of the utility matrix. For each item seen \n",
    "    by a user, the function computes the distance between its rating \n",
    "    and the best score for that user in the utility matrix.\n",
    "    \n",
    "    Inputs:\n",
    "    - user_ids: list of user ids\n",
    "    - interactions_: DataFrame of recommendations providing 'userID', 'itemID' and 'rating'\n",
    "    - utility_matrix: numpy array\n",
    "\n",
    "    Outputs:\n",
    "    - dist_from_best\n",
    "    \"\"\"\n",
    "    for user_id in user_ids:\n",
    "            user_items = interactions_.loc[interactions_[\"userID\"] == user_id, \"itemID\"].to_numpy()\n",
    "            user_recos = np.argsort(utility_matrix[user_id,:])\n",
    "            user_recos = np.flip(user_recos)\n",
    "            dist_from_best.append(np.argwhere(np.isin(user_recos, user_items)) / len(user_recos) * 100) \n",
    "    return(dist_from_best)"
   ]
  },
  {
   "cell_type": "code",
   "execution_count": null,
   "metadata": {},
   "outputs": [],
   "source": []
  },
  {
   "cell_type": "code",
   "execution_count": 93,
   "metadata": {},
   "outputs": [
    {
     "output_type": "display_data",
     "data": {
      "application/vnd.plotly.v1+json": {
       "config": {
        "plotlyServerURL": "https://plot.ly"
       },
       "data": [
        {
         "hovertemplate": "#factors=%{x}<br>RMSE=%{y}<extra></extra>",
         "legendgroup": "",
         "marker": {
          "color": "#636efa",
          "symbol": "circle"
         },
         "mode": "markers",
         "name": "",
         "orientation": "v",
         "showlegend": false,
         "type": "scatter",
         "x": [
          10,
          50,
          100,
          500,
          1000
         ],
         "xaxis": "x",
         "y": [
          0.67,
          0.66,
          0.64,
          0.54,
          0.46
         ],
         "yaxis": "y"
        }
       ],
       "layout": {
        "legend": {
         "tracegroupgap": 0
        },
        "shapes": [
         {
          "type": "line",
          "x0": 0,
          "x1": 1,
          "xref": "x domain",
          "y0": 0.77,
          "y1": 0.77,
          "yref": "y"
         }
        ],
        "template": {
         "data": {
          "bar": [
           {
            "error_x": {
             "color": "#2a3f5f"
            },
            "error_y": {
             "color": "#2a3f5f"
            },
            "marker": {
             "line": {
              "color": "#E5ECF6",
              "width": 0.5
             }
            },
            "type": "bar"
           }
          ],
          "barpolar": [
           {
            "marker": {
             "line": {
              "color": "#E5ECF6",
              "width": 0.5
             }
            },
            "type": "barpolar"
           }
          ],
          "carpet": [
           {
            "aaxis": {
             "endlinecolor": "#2a3f5f",
             "gridcolor": "white",
             "linecolor": "white",
             "minorgridcolor": "white",
             "startlinecolor": "#2a3f5f"
            },
            "baxis": {
             "endlinecolor": "#2a3f5f",
             "gridcolor": "white",
             "linecolor": "white",
             "minorgridcolor": "white",
             "startlinecolor": "#2a3f5f"
            },
            "type": "carpet"
           }
          ],
          "choropleth": [
           {
            "colorbar": {
             "outlinewidth": 0,
             "ticks": ""
            },
            "type": "choropleth"
           }
          ],
          "contour": [
           {
            "colorbar": {
             "outlinewidth": 0,
             "ticks": ""
            },
            "colorscale": [
             [
              0,
              "#0d0887"
             ],
             [
              0.1111111111111111,
              "#46039f"
             ],
             [
              0.2222222222222222,
              "#7201a8"
             ],
             [
              0.3333333333333333,
              "#9c179e"
             ],
             [
              0.4444444444444444,
              "#bd3786"
             ],
             [
              0.5555555555555556,
              "#d8576b"
             ],
             [
              0.6666666666666666,
              "#ed7953"
             ],
             [
              0.7777777777777778,
              "#fb9f3a"
             ],
             [
              0.8888888888888888,
              "#fdca26"
             ],
             [
              1,
              "#f0f921"
             ]
            ],
            "type": "contour"
           }
          ],
          "contourcarpet": [
           {
            "colorbar": {
             "outlinewidth": 0,
             "ticks": ""
            },
            "type": "contourcarpet"
           }
          ],
          "heatmap": [
           {
            "colorbar": {
             "outlinewidth": 0,
             "ticks": ""
            },
            "colorscale": [
             [
              0,
              "#0d0887"
             ],
             [
              0.1111111111111111,
              "#46039f"
             ],
             [
              0.2222222222222222,
              "#7201a8"
             ],
             [
              0.3333333333333333,
              "#9c179e"
             ],
             [
              0.4444444444444444,
              "#bd3786"
             ],
             [
              0.5555555555555556,
              "#d8576b"
             ],
             [
              0.6666666666666666,
              "#ed7953"
             ],
             [
              0.7777777777777778,
              "#fb9f3a"
             ],
             [
              0.8888888888888888,
              "#fdca26"
             ],
             [
              1,
              "#f0f921"
             ]
            ],
            "type": "heatmap"
           }
          ],
          "heatmapgl": [
           {
            "colorbar": {
             "outlinewidth": 0,
             "ticks": ""
            },
            "colorscale": [
             [
              0,
              "#0d0887"
             ],
             [
              0.1111111111111111,
              "#46039f"
             ],
             [
              0.2222222222222222,
              "#7201a8"
             ],
             [
              0.3333333333333333,
              "#9c179e"
             ],
             [
              0.4444444444444444,
              "#bd3786"
             ],
             [
              0.5555555555555556,
              "#d8576b"
             ],
             [
              0.6666666666666666,
              "#ed7953"
             ],
             [
              0.7777777777777778,
              "#fb9f3a"
             ],
             [
              0.8888888888888888,
              "#fdca26"
             ],
             [
              1,
              "#f0f921"
             ]
            ],
            "type": "heatmapgl"
           }
          ],
          "histogram": [
           {
            "marker": {
             "colorbar": {
              "outlinewidth": 0,
              "ticks": ""
             }
            },
            "type": "histogram"
           }
          ],
          "histogram2d": [
           {
            "colorbar": {
             "outlinewidth": 0,
             "ticks": ""
            },
            "colorscale": [
             [
              0,
              "#0d0887"
             ],
             [
              0.1111111111111111,
              "#46039f"
             ],
             [
              0.2222222222222222,
              "#7201a8"
             ],
             [
              0.3333333333333333,
              "#9c179e"
             ],
             [
              0.4444444444444444,
              "#bd3786"
             ],
             [
              0.5555555555555556,
              "#d8576b"
             ],
             [
              0.6666666666666666,
              "#ed7953"
             ],
             [
              0.7777777777777778,
              "#fb9f3a"
             ],
             [
              0.8888888888888888,
              "#fdca26"
             ],
             [
              1,
              "#f0f921"
             ]
            ],
            "type": "histogram2d"
           }
          ],
          "histogram2dcontour": [
           {
            "colorbar": {
             "outlinewidth": 0,
             "ticks": ""
            },
            "colorscale": [
             [
              0,
              "#0d0887"
             ],
             [
              0.1111111111111111,
              "#46039f"
             ],
             [
              0.2222222222222222,
              "#7201a8"
             ],
             [
              0.3333333333333333,
              "#9c179e"
             ],
             [
              0.4444444444444444,
              "#bd3786"
             ],
             [
              0.5555555555555556,
              "#d8576b"
             ],
             [
              0.6666666666666666,
              "#ed7953"
             ],
             [
              0.7777777777777778,
              "#fb9f3a"
             ],
             [
              0.8888888888888888,
              "#fdca26"
             ],
             [
              1,
              "#f0f921"
             ]
            ],
            "type": "histogram2dcontour"
           }
          ],
          "mesh3d": [
           {
            "colorbar": {
             "outlinewidth": 0,
             "ticks": ""
            },
            "type": "mesh3d"
           }
          ],
          "parcoords": [
           {
            "line": {
             "colorbar": {
              "outlinewidth": 0,
              "ticks": ""
             }
            },
            "type": "parcoords"
           }
          ],
          "pie": [
           {
            "automargin": true,
            "type": "pie"
           }
          ],
          "scatter": [
           {
            "marker": {
             "colorbar": {
              "outlinewidth": 0,
              "ticks": ""
             }
            },
            "type": "scatter"
           }
          ],
          "scatter3d": [
           {
            "line": {
             "colorbar": {
              "outlinewidth": 0,
              "ticks": ""
             }
            },
            "marker": {
             "colorbar": {
              "outlinewidth": 0,
              "ticks": ""
             }
            },
            "type": "scatter3d"
           }
          ],
          "scattercarpet": [
           {
            "marker": {
             "colorbar": {
              "outlinewidth": 0,
              "ticks": ""
             }
            },
            "type": "scattercarpet"
           }
          ],
          "scattergeo": [
           {
            "marker": {
             "colorbar": {
              "outlinewidth": 0,
              "ticks": ""
             }
            },
            "type": "scattergeo"
           }
          ],
          "scattergl": [
           {
            "marker": {
             "colorbar": {
              "outlinewidth": 0,
              "ticks": ""
             }
            },
            "type": "scattergl"
           }
          ],
          "scattermapbox": [
           {
            "marker": {
             "colorbar": {
              "outlinewidth": 0,
              "ticks": ""
             }
            },
            "type": "scattermapbox"
           }
          ],
          "scatterpolar": [
           {
            "marker": {
             "colorbar": {
              "outlinewidth": 0,
              "ticks": ""
             }
            },
            "type": "scatterpolar"
           }
          ],
          "scatterpolargl": [
           {
            "marker": {
             "colorbar": {
              "outlinewidth": 0,
              "ticks": ""
             }
            },
            "type": "scatterpolargl"
           }
          ],
          "scatterternary": [
           {
            "marker": {
             "colorbar": {
              "outlinewidth": 0,
              "ticks": ""
             }
            },
            "type": "scatterternary"
           }
          ],
          "surface": [
           {
            "colorbar": {
             "outlinewidth": 0,
             "ticks": ""
            },
            "colorscale": [
             [
              0,
              "#0d0887"
             ],
             [
              0.1111111111111111,
              "#46039f"
             ],
             [
              0.2222222222222222,
              "#7201a8"
             ],
             [
              0.3333333333333333,
              "#9c179e"
             ],
             [
              0.4444444444444444,
              "#bd3786"
             ],
             [
              0.5555555555555556,
              "#d8576b"
             ],
             [
              0.6666666666666666,
              "#ed7953"
             ],
             [
              0.7777777777777778,
              "#fb9f3a"
             ],
             [
              0.8888888888888888,
              "#fdca26"
             ],
             [
              1,
              "#f0f921"
             ]
            ],
            "type": "surface"
           }
          ],
          "table": [
           {
            "cells": {
             "fill": {
              "color": "#EBF0F8"
             },
             "line": {
              "color": "white"
             }
            },
            "header": {
             "fill": {
              "color": "#C8D4E3"
             },
             "line": {
              "color": "white"
             }
            },
            "type": "table"
           }
          ]
         },
         "layout": {
          "annotationdefaults": {
           "arrowcolor": "#2a3f5f",
           "arrowhead": 0,
           "arrowwidth": 1
          },
          "autotypenumbers": "strict",
          "coloraxis": {
           "colorbar": {
            "outlinewidth": 0,
            "ticks": ""
           }
          },
          "colorscale": {
           "diverging": [
            [
             0,
             "#8e0152"
            ],
            [
             0.1,
             "#c51b7d"
            ],
            [
             0.2,
             "#de77ae"
            ],
            [
             0.3,
             "#f1b6da"
            ],
            [
             0.4,
             "#fde0ef"
            ],
            [
             0.5,
             "#f7f7f7"
            ],
            [
             0.6,
             "#e6f5d0"
            ],
            [
             0.7,
             "#b8e186"
            ],
            [
             0.8,
             "#7fbc41"
            ],
            [
             0.9,
             "#4d9221"
            ],
            [
             1,
             "#276419"
            ]
           ],
           "sequential": [
            [
             0,
             "#0d0887"
            ],
            [
             0.1111111111111111,
             "#46039f"
            ],
            [
             0.2222222222222222,
             "#7201a8"
            ],
            [
             0.3333333333333333,
             "#9c179e"
            ],
            [
             0.4444444444444444,
             "#bd3786"
            ],
            [
             0.5555555555555556,
             "#d8576b"
            ],
            [
             0.6666666666666666,
             "#ed7953"
            ],
            [
             0.7777777777777778,
             "#fb9f3a"
            ],
            [
             0.8888888888888888,
             "#fdca26"
            ],
            [
             1,
             "#f0f921"
            ]
           ],
           "sequentialminus": [
            [
             0,
             "#0d0887"
            ],
            [
             0.1111111111111111,
             "#46039f"
            ],
            [
             0.2222222222222222,
             "#7201a8"
            ],
            [
             0.3333333333333333,
             "#9c179e"
            ],
            [
             0.4444444444444444,
             "#bd3786"
            ],
            [
             0.5555555555555556,
             "#d8576b"
            ],
            [
             0.6666666666666666,
             "#ed7953"
            ],
            [
             0.7777777777777778,
             "#fb9f3a"
            ],
            [
             0.8888888888888888,
             "#fdca26"
            ],
            [
             1,
             "#f0f921"
            ]
           ]
          },
          "colorway": [
           "#636efa",
           "#EF553B",
           "#00cc96",
           "#ab63fa",
           "#FFA15A",
           "#19d3f3",
           "#FF6692",
           "#B6E880",
           "#FF97FF",
           "#FECB52"
          ],
          "font": {
           "color": "#2a3f5f"
          },
          "geo": {
           "bgcolor": "white",
           "lakecolor": "white",
           "landcolor": "#E5ECF6",
           "showlakes": true,
           "showland": true,
           "subunitcolor": "white"
          },
          "hoverlabel": {
           "align": "left"
          },
          "hovermode": "closest",
          "mapbox": {
           "style": "light"
          },
          "paper_bgcolor": "white",
          "plot_bgcolor": "#E5ECF6",
          "polar": {
           "angularaxis": {
            "gridcolor": "white",
            "linecolor": "white",
            "ticks": ""
           },
           "bgcolor": "#E5ECF6",
           "radialaxis": {
            "gridcolor": "white",
            "linecolor": "white",
            "ticks": ""
           }
          },
          "scene": {
           "xaxis": {
            "backgroundcolor": "#E5ECF6",
            "gridcolor": "white",
            "gridwidth": 2,
            "linecolor": "white",
            "showbackground": true,
            "ticks": "",
            "zerolinecolor": "white"
           },
           "yaxis": {
            "backgroundcolor": "#E5ECF6",
            "gridcolor": "white",
            "gridwidth": 2,
            "linecolor": "white",
            "showbackground": true,
            "ticks": "",
            "zerolinecolor": "white"
           },
           "zaxis": {
            "backgroundcolor": "#E5ECF6",
            "gridcolor": "white",
            "gridwidth": 2,
            "linecolor": "white",
            "showbackground": true,
            "ticks": "",
            "zerolinecolor": "white"
           }
          },
          "shapedefaults": {
           "line": {
            "color": "#2a3f5f"
           }
          },
          "ternary": {
           "aaxis": {
            "gridcolor": "white",
            "linecolor": "white",
            "ticks": ""
           },
           "baxis": {
            "gridcolor": "white",
            "linecolor": "white",
            "ticks": ""
           },
           "bgcolor": "#E5ECF6",
           "caxis": {
            "gridcolor": "white",
            "linecolor": "white",
            "ticks": ""
           }
          },
          "title": {
           "x": 0.05
          },
          "xaxis": {
           "automargin": true,
           "gridcolor": "white",
           "linecolor": "white",
           "ticks": "",
           "title": {
            "standoff": 15
           },
           "zerolinecolor": "white",
           "zerolinewidth": 2
          },
          "yaxis": {
           "automargin": true,
           "gridcolor": "white",
           "linecolor": "white",
           "ticks": "",
           "title": {
            "standoff": 15
           },
           "zerolinecolor": "white",
           "zerolinewidth": 2
          }
         }
        },
        "title": {
         "text": "Collaborative Filtering"
        },
        "xaxis": {
         "anchor": "y",
         "domain": [
          0,
          1
         ],
         "title": {
          "text": "#factors"
         }
        },
        "yaxis": {
         "anchor": "x",
         "domain": [
          0,
          1
         ],
         "range": [
          0,
          1
         ],
         "title": {
          "text": "RMSE"
         }
        }
       }
      }
     },
     "metadata": {}
    }
   ],
   "source": [
    "import plotly.express as px\n",
    "x = np.array([10, 50, 100, 500, 1000])\n",
    "y = np.array([0.67, 0.66, 0.64, 0.54, 0.46])\n",
    "df = pd.DataFrame(np.array([x,y]).T, columns=['#factors', 'RMSE'])\n",
    "\n",
    "fig = px.scatter(df, x='#factors', y='RMSE', title=\"Collaborative Filtering\", range_y=[0,1])\n",
    "fig.add_hline(y=0.77)\n"
   ]
  },
  {
   "cell_type": "code",
   "execution_count": 106,
   "metadata": {},
   "outputs": [
    {
     "output_type": "display_data",
     "data": {
      "application/vnd.plotly.v1+json": {
       "config": {
        "plotlyServerURL": "https://plot.ly"
       },
       "data": [
        {
         "hovertemplate": "On regarde x éléments vus par le user=%{x}<br>Rang moyen en %=%{y}<extra></extra>",
         "legendgroup": "",
         "marker": {
          "color": "#636efa",
          "symbol": "circle"
         },
         "mode": "markers",
         "name": "",
         "orientation": "v",
         "showlegend": false,
         "type": "scatter",
         "x": [
          0,
          1,
          2,
          3,
          4,
          5,
          6,
          7,
          8,
          9,
          10,
          11,
          12,
          13,
          14,
          15,
          16,
          17,
          18,
          19
         ],
         "xaxis": "x",
         "y": [
          0.0968501319884519,
          0.694065601419597,
          1.1585537032306275,
          2.0236086732390786,
          2.8017158956581634,
          3.57706102050925,
          4.375838441582704,
          5.200661835657795,
          5.602002031963341,
          6.1238111817587075,
          6.8142416381658215,
          7.386731508146795,
          7.8395433562647705,
          8.197199279631986,
          8.522358027449352,
          8.887168054268228,
          9.2473945396493,
          9.630949670638552,
          9.939209639705924,
          10.273802613747893
         ],
         "yaxis": "y"
        }
       ],
       "layout": {
        "legend": {
         "tracegroupgap": 0
        },
        "template": {
         "data": {
          "bar": [
           {
            "error_x": {
             "color": "#2a3f5f"
            },
            "error_y": {
             "color": "#2a3f5f"
            },
            "marker": {
             "line": {
              "color": "#E5ECF6",
              "width": 0.5
             }
            },
            "type": "bar"
           }
          ],
          "barpolar": [
           {
            "marker": {
             "line": {
              "color": "#E5ECF6",
              "width": 0.5
             }
            },
            "type": "barpolar"
           }
          ],
          "carpet": [
           {
            "aaxis": {
             "endlinecolor": "#2a3f5f",
             "gridcolor": "white",
             "linecolor": "white",
             "minorgridcolor": "white",
             "startlinecolor": "#2a3f5f"
            },
            "baxis": {
             "endlinecolor": "#2a3f5f",
             "gridcolor": "white",
             "linecolor": "white",
             "minorgridcolor": "white",
             "startlinecolor": "#2a3f5f"
            },
            "type": "carpet"
           }
          ],
          "choropleth": [
           {
            "colorbar": {
             "outlinewidth": 0,
             "ticks": ""
            },
            "type": "choropleth"
           }
          ],
          "contour": [
           {
            "colorbar": {
             "outlinewidth": 0,
             "ticks": ""
            },
            "colorscale": [
             [
              0,
              "#0d0887"
             ],
             [
              0.1111111111111111,
              "#46039f"
             ],
             [
              0.2222222222222222,
              "#7201a8"
             ],
             [
              0.3333333333333333,
              "#9c179e"
             ],
             [
              0.4444444444444444,
              "#bd3786"
             ],
             [
              0.5555555555555556,
              "#d8576b"
             ],
             [
              0.6666666666666666,
              "#ed7953"
             ],
             [
              0.7777777777777778,
              "#fb9f3a"
             ],
             [
              0.8888888888888888,
              "#fdca26"
             ],
             [
              1,
              "#f0f921"
             ]
            ],
            "type": "contour"
           }
          ],
          "contourcarpet": [
           {
            "colorbar": {
             "outlinewidth": 0,
             "ticks": ""
            },
            "type": "contourcarpet"
           }
          ],
          "heatmap": [
           {
            "colorbar": {
             "outlinewidth": 0,
             "ticks": ""
            },
            "colorscale": [
             [
              0,
              "#0d0887"
             ],
             [
              0.1111111111111111,
              "#46039f"
             ],
             [
              0.2222222222222222,
              "#7201a8"
             ],
             [
              0.3333333333333333,
              "#9c179e"
             ],
             [
              0.4444444444444444,
              "#bd3786"
             ],
             [
              0.5555555555555556,
              "#d8576b"
             ],
             [
              0.6666666666666666,
              "#ed7953"
             ],
             [
              0.7777777777777778,
              "#fb9f3a"
             ],
             [
              0.8888888888888888,
              "#fdca26"
             ],
             [
              1,
              "#f0f921"
             ]
            ],
            "type": "heatmap"
           }
          ],
          "heatmapgl": [
           {
            "colorbar": {
             "outlinewidth": 0,
             "ticks": ""
            },
            "colorscale": [
             [
              0,
              "#0d0887"
             ],
             [
              0.1111111111111111,
              "#46039f"
             ],
             [
              0.2222222222222222,
              "#7201a8"
             ],
             [
              0.3333333333333333,
              "#9c179e"
             ],
             [
              0.4444444444444444,
              "#bd3786"
             ],
             [
              0.5555555555555556,
              "#d8576b"
             ],
             [
              0.6666666666666666,
              "#ed7953"
             ],
             [
              0.7777777777777778,
              "#fb9f3a"
             ],
             [
              0.8888888888888888,
              "#fdca26"
             ],
             [
              1,
              "#f0f921"
             ]
            ],
            "type": "heatmapgl"
           }
          ],
          "histogram": [
           {
            "marker": {
             "colorbar": {
              "outlinewidth": 0,
              "ticks": ""
             }
            },
            "type": "histogram"
           }
          ],
          "histogram2d": [
           {
            "colorbar": {
             "outlinewidth": 0,
             "ticks": ""
            },
            "colorscale": [
             [
              0,
              "#0d0887"
             ],
             [
              0.1111111111111111,
              "#46039f"
             ],
             [
              0.2222222222222222,
              "#7201a8"
             ],
             [
              0.3333333333333333,
              "#9c179e"
             ],
             [
              0.4444444444444444,
              "#bd3786"
             ],
             [
              0.5555555555555556,
              "#d8576b"
             ],
             [
              0.6666666666666666,
              "#ed7953"
             ],
             [
              0.7777777777777778,
              "#fb9f3a"
             ],
             [
              0.8888888888888888,
              "#fdca26"
             ],
             [
              1,
              "#f0f921"
             ]
            ],
            "type": "histogram2d"
           }
          ],
          "histogram2dcontour": [
           {
            "colorbar": {
             "outlinewidth": 0,
             "ticks": ""
            },
            "colorscale": [
             [
              0,
              "#0d0887"
             ],
             [
              0.1111111111111111,
              "#46039f"
             ],
             [
              0.2222222222222222,
              "#7201a8"
             ],
             [
              0.3333333333333333,
              "#9c179e"
             ],
             [
              0.4444444444444444,
              "#bd3786"
             ],
             [
              0.5555555555555556,
              "#d8576b"
             ],
             [
              0.6666666666666666,
              "#ed7953"
             ],
             [
              0.7777777777777778,
              "#fb9f3a"
             ],
             [
              0.8888888888888888,
              "#fdca26"
             ],
             [
              1,
              "#f0f921"
             ]
            ],
            "type": "histogram2dcontour"
           }
          ],
          "mesh3d": [
           {
            "colorbar": {
             "outlinewidth": 0,
             "ticks": ""
            },
            "type": "mesh3d"
           }
          ],
          "parcoords": [
           {
            "line": {
             "colorbar": {
              "outlinewidth": 0,
              "ticks": ""
             }
            },
            "type": "parcoords"
           }
          ],
          "pie": [
           {
            "automargin": true,
            "type": "pie"
           }
          ],
          "scatter": [
           {
            "marker": {
             "colorbar": {
              "outlinewidth": 0,
              "ticks": ""
             }
            },
            "type": "scatter"
           }
          ],
          "scatter3d": [
           {
            "line": {
             "colorbar": {
              "outlinewidth": 0,
              "ticks": ""
             }
            },
            "marker": {
             "colorbar": {
              "outlinewidth": 0,
              "ticks": ""
             }
            },
            "type": "scatter3d"
           }
          ],
          "scattercarpet": [
           {
            "marker": {
             "colorbar": {
              "outlinewidth": 0,
              "ticks": ""
             }
            },
            "type": "scattercarpet"
           }
          ],
          "scattergeo": [
           {
            "marker": {
             "colorbar": {
              "outlinewidth": 0,
              "ticks": ""
             }
            },
            "type": "scattergeo"
           }
          ],
          "scattergl": [
           {
            "marker": {
             "colorbar": {
              "outlinewidth": 0,
              "ticks": ""
             }
            },
            "type": "scattergl"
           }
          ],
          "scattermapbox": [
           {
            "marker": {
             "colorbar": {
              "outlinewidth": 0,
              "ticks": ""
             }
            },
            "type": "scattermapbox"
           }
          ],
          "scatterpolar": [
           {
            "marker": {
             "colorbar": {
              "outlinewidth": 0,
              "ticks": ""
             }
            },
            "type": "scatterpolar"
           }
          ],
          "scatterpolargl": [
           {
            "marker": {
             "colorbar": {
              "outlinewidth": 0,
              "ticks": ""
             }
            },
            "type": "scatterpolargl"
           }
          ],
          "scatterternary": [
           {
            "marker": {
             "colorbar": {
              "outlinewidth": 0,
              "ticks": ""
             }
            },
            "type": "scatterternary"
           }
          ],
          "surface": [
           {
            "colorbar": {
             "outlinewidth": 0,
             "ticks": ""
            },
            "colorscale": [
             [
              0,
              "#0d0887"
             ],
             [
              0.1111111111111111,
              "#46039f"
             ],
             [
              0.2222222222222222,
              "#7201a8"
             ],
             [
              0.3333333333333333,
              "#9c179e"
             ],
             [
              0.4444444444444444,
              "#bd3786"
             ],
             [
              0.5555555555555556,
              "#d8576b"
             ],
             [
              0.6666666666666666,
              "#ed7953"
             ],
             [
              0.7777777777777778,
              "#fb9f3a"
             ],
             [
              0.8888888888888888,
              "#fdca26"
             ],
             [
              1,
              "#f0f921"
             ]
            ],
            "type": "surface"
           }
          ],
          "table": [
           {
            "cells": {
             "fill": {
              "color": "#EBF0F8"
             },
             "line": {
              "color": "white"
             }
            },
            "header": {
             "fill": {
              "color": "#C8D4E3"
             },
             "line": {
              "color": "white"
             }
            },
            "type": "table"
           }
          ]
         },
         "layout": {
          "annotationdefaults": {
           "arrowcolor": "#2a3f5f",
           "arrowhead": 0,
           "arrowwidth": 1
          },
          "autotypenumbers": "strict",
          "coloraxis": {
           "colorbar": {
            "outlinewidth": 0,
            "ticks": ""
           }
          },
          "colorscale": {
           "diverging": [
            [
             0,
             "#8e0152"
            ],
            [
             0.1,
             "#c51b7d"
            ],
            [
             0.2,
             "#de77ae"
            ],
            [
             0.3,
             "#f1b6da"
            ],
            [
             0.4,
             "#fde0ef"
            ],
            [
             0.5,
             "#f7f7f7"
            ],
            [
             0.6,
             "#e6f5d0"
            ],
            [
             0.7,
             "#b8e186"
            ],
            [
             0.8,
             "#7fbc41"
            ],
            [
             0.9,
             "#4d9221"
            ],
            [
             1,
             "#276419"
            ]
           ],
           "sequential": [
            [
             0,
             "#0d0887"
            ],
            [
             0.1111111111111111,
             "#46039f"
            ],
            [
             0.2222222222222222,
             "#7201a8"
            ],
            [
             0.3333333333333333,
             "#9c179e"
            ],
            [
             0.4444444444444444,
             "#bd3786"
            ],
            [
             0.5555555555555556,
             "#d8576b"
            ],
            [
             0.6666666666666666,
             "#ed7953"
            ],
            [
             0.7777777777777778,
             "#fb9f3a"
            ],
            [
             0.8888888888888888,
             "#fdca26"
            ],
            [
             1,
             "#f0f921"
            ]
           ],
           "sequentialminus": [
            [
             0,
             "#0d0887"
            ],
            [
             0.1111111111111111,
             "#46039f"
            ],
            [
             0.2222222222222222,
             "#7201a8"
            ],
            [
             0.3333333333333333,
             "#9c179e"
            ],
            [
             0.4444444444444444,
             "#bd3786"
            ],
            [
             0.5555555555555556,
             "#d8576b"
            ],
            [
             0.6666666666666666,
             "#ed7953"
            ],
            [
             0.7777777777777778,
             "#fb9f3a"
            ],
            [
             0.8888888888888888,
             "#fdca26"
            ],
            [
             1,
             "#f0f921"
            ]
           ]
          },
          "colorway": [
           "#636efa",
           "#EF553B",
           "#00cc96",
           "#ab63fa",
           "#FFA15A",
           "#19d3f3",
           "#FF6692",
           "#B6E880",
           "#FF97FF",
           "#FECB52"
          ],
          "font": {
           "color": "#2a3f5f"
          },
          "geo": {
           "bgcolor": "white",
           "lakecolor": "white",
           "landcolor": "#E5ECF6",
           "showlakes": true,
           "showland": true,
           "subunitcolor": "white"
          },
          "hoverlabel": {
           "align": "left"
          },
          "hovermode": "closest",
          "mapbox": {
           "style": "light"
          },
          "paper_bgcolor": "white",
          "plot_bgcolor": "#E5ECF6",
          "polar": {
           "angularaxis": {
            "gridcolor": "white",
            "linecolor": "white",
            "ticks": ""
           },
           "bgcolor": "#E5ECF6",
           "radialaxis": {
            "gridcolor": "white",
            "linecolor": "white",
            "ticks": ""
           }
          },
          "scene": {
           "xaxis": {
            "backgroundcolor": "#E5ECF6",
            "gridcolor": "white",
            "gridwidth": 2,
            "linecolor": "white",
            "showbackground": true,
            "ticks": "",
            "zerolinecolor": "white"
           },
           "yaxis": {
            "backgroundcolor": "#E5ECF6",
            "gridcolor": "white",
            "gridwidth": 2,
            "linecolor": "white",
            "showbackground": true,
            "ticks": "",
            "zerolinecolor": "white"
           },
           "zaxis": {
            "backgroundcolor": "#E5ECF6",
            "gridcolor": "white",
            "gridwidth": 2,
            "linecolor": "white",
            "showbackground": true,
            "ticks": "",
            "zerolinecolor": "white"
           }
          },
          "shapedefaults": {
           "line": {
            "color": "#2a3f5f"
           }
          },
          "ternary": {
           "aaxis": {
            "gridcolor": "white",
            "linecolor": "white",
            "ticks": ""
           },
           "baxis": {
            "gridcolor": "white",
            "linecolor": "white",
            "ticks": ""
           },
           "bgcolor": "#E5ECF6",
           "caxis": {
            "gridcolor": "white",
            "linecolor": "white",
            "ticks": ""
           }
          },
          "title": {
           "x": 0.05
          },
          "xaxis": {
           "automargin": true,
           "gridcolor": "white",
           "linecolor": "white",
           "ticks": "",
           "title": {
            "standoff": 15
           },
           "zerolinecolor": "white",
           "zerolinewidth": 2
          },
          "yaxis": {
           "automargin": true,
           "gridcolor": "white",
           "linecolor": "white",
           "ticks": "",
           "title": {
            "standoff": 15
           },
           "zerolinecolor": "white",
           "zerolinewidth": 2
          }
         }
        },
        "title": {
         "text": "Content Based Filtering"
        },
        "xaxis": {
         "anchor": "y",
         "domain": [
          0,
          1
         ],
         "title": {
          "text": "On regarde x éléments vus par le user"
         }
        },
        "yaxis": {
         "anchor": "x",
         "domain": [
          0,
          1
         ],
         "title": {
          "text": "Rang moyen en %"
         }
        }
       }
      }
     },
     "metadata": {}
    }
   ],
   "source": [
    "import plotly.express as px\n",
    "x = np.arange(20)\n",
    "y = np.array(mean)\n",
    "label_x = \"On regarde x éléments vus par le user\"\n",
    "label_y = \"Rang moyen en %\"\n",
    "\n",
    "df = pd.DataFrame(np.array([x,y]).T, columns=[label_x, label_y])\n",
    "\n",
    "px.scatter(df, x=label_x, y=label_y, title=\"Content Based Filtering\")"
   ]
  }
 ]
}